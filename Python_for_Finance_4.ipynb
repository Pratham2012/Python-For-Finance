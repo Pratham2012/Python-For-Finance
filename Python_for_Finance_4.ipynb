{
  "nbformat": 4,
  "nbformat_minor": 0,
  "metadata": {
    "colab": {
      "provenance": [],
      "authorship_tag": "ABX9TyPNzv81Or6ddQJ/92yepWYo",
      "include_colab_link": true
    },
    "kernelspec": {
      "name": "python3",
      "display_name": "Python 3"
    },
    "language_info": {
      "name": "python"
    }
  },
  "cells": [
    {
      "cell_type": "markdown",
      "metadata": {
        "id": "view-in-github",
        "colab_type": "text"
      },
      "source": [
        "<a href=\"https://colab.research.google.com/github/Pratham2012/Python-for-Finance/blob/main/Python_for_Finance_4.ipynb\" target=\"_parent\"><img src=\"https://colab.research.google.com/assets/colab-badge.svg\" alt=\"Open In Colab\"/></a>"
      ]
    },
    {
      "cell_type": "code",
      "execution_count": null,
      "metadata": {
        "id": "Aa8bfbA1ZbqW",
        "colab": {
          "base_uri": "https://localhost:8080/"
        },
        "outputId": "bac011a1-5d40-495a-e9bd-74b2567d3778"
      },
      "outputs": [
        {
          "output_type": "stream",
          "name": "stdout",
          "text": [
            "Looking in indexes: https://pypi.org/simple, https://us-python.pkg.dev/colab-wheels/public/simple/\n",
            "Collecting yfinance\n",
            "  Downloading yfinance-0.1.85-py2.py3-none-any.whl (29 kB)\n",
            "Requirement already satisfied: multitasking>=0.0.7 in /usr/local/lib/python3.7/dist-packages (from yfinance) (0.0.11)\n",
            "Requirement already satisfied: appdirs>=1.4.4 in /usr/local/lib/python3.7/dist-packages (from yfinance) (1.4.4)\n",
            "Requirement already satisfied: lxml>=4.5.1 in /usr/local/lib/python3.7/dist-packages (from yfinance) (4.9.1)\n",
            "Collecting requests>=2.26\n",
            "  Downloading requests-2.28.1-py3-none-any.whl (62 kB)\n",
            "\u001b[K     |████████████████████████████████| 62 kB 1.1 MB/s \n",
            "\u001b[?25hRequirement already satisfied: numpy>=1.15 in /usr/local/lib/python3.7/dist-packages (from yfinance) (1.21.6)\n",
            "Requirement already satisfied: pandas>=0.24.0 in /usr/local/lib/python3.7/dist-packages (from yfinance) (1.3.5)\n",
            "Requirement already satisfied: python-dateutil>=2.7.3 in /usr/local/lib/python3.7/dist-packages (from pandas>=0.24.0->yfinance) (2.8.2)\n",
            "Requirement already satisfied: pytz>=2017.3 in /usr/local/lib/python3.7/dist-packages (from pandas>=0.24.0->yfinance) (2022.5)\n",
            "Requirement already satisfied: six>=1.5 in /usr/local/lib/python3.7/dist-packages (from python-dateutil>=2.7.3->pandas>=0.24.0->yfinance) (1.15.0)\n",
            "Requirement already satisfied: charset-normalizer<3,>=2 in /usr/local/lib/python3.7/dist-packages (from requests>=2.26->yfinance) (2.1.1)\n",
            "Requirement already satisfied: urllib3<1.27,>=1.21.1 in /usr/local/lib/python3.7/dist-packages (from requests>=2.26->yfinance) (1.24.3)\n",
            "Requirement already satisfied: idna<4,>=2.5 in /usr/local/lib/python3.7/dist-packages (from requests>=2.26->yfinance) (2.10)\n",
            "Requirement already satisfied: certifi>=2017.4.17 in /usr/local/lib/python3.7/dist-packages (from requests>=2.26->yfinance) (2022.9.24)\n",
            "Installing collected packages: requests, yfinance\n",
            "  Attempting uninstall: requests\n",
            "    Found existing installation: requests 2.23.0\n",
            "    Uninstalling requests-2.23.0:\n",
            "      Successfully uninstalled requests-2.23.0\n",
            "Successfully installed requests-2.28.1 yfinance-0.1.85\n"
          ]
        }
      ],
      "source": [
        "!pip install yfinance"
      ]
    },
    {
      "cell_type": "code",
      "source": [
        "import yfinance as yf\n",
        "import pandas as pd\n",
        "import numpy as np"
      ],
      "metadata": {
        "id": "mHVr-Q1EbpTJ"
      },
      "execution_count": null,
      "outputs": []
    },
    {
      "cell_type": "code",
      "source": [
        "# We add .NS at the end as these companies are listed on the NSE(National Stock Exchange)\n",
        "companies = ['RELIANCE.NS','TCS.NS','HDFCBANK.NS']\n",
        "\n",
        "#Date range\n",
        "start = '2018-01-01'\n",
        "end = '2022-11-1'\n",
        "\n",
        "data = yf.download(companies,start=start,end=end)['Adj Close']"
      ],
      "metadata": {
        "colab": {
          "base_uri": "https://localhost:8080/"
        },
        "id": "PvSRPSDHb0tA",
        "outputId": "ae74372c-6d10-4664-8d1b-2cb03d3b85d3"
      },
      "execution_count": null,
      "outputs": [
        {
          "output_type": "stream",
          "name": "stdout",
          "text": [
            "[*********************100%***********************]  3 of 3 completed\n"
          ]
        }
      ]
    },
    {
      "cell_type": "code",
      "source": [
        "#pct_change() is a built-in method in DataFrame that computes the percent change from one row to another which is exactly what a return is\n",
        "returns = data.pct_change()\n",
        "returns = returns.dropna()"
      ],
      "metadata": {
        "id": "3ri3_DUghC4L"
      },
      "execution_count": null,
      "outputs": []
    },
    {
      "cell_type": "code",
      "source": [
        "def semideviation(r):\n",
        "    \"\"\"\n",
        "    Returns the semideviation of r.\n",
        "    r must be a Series or a DataFrame, else it raises a TypeError\n",
        "    \"\"\"\n",
        "    is_negative = r < 0\n",
        "    return r[is_negative].std(ddof=0)"
      ],
      "metadata": {
        "id": "t4nMDvujCL3N"
      },
      "execution_count": null,
      "outputs": []
    },
    {
      "cell_type": "code",
      "source": [
        "semideviation(returns)"
      ],
      "metadata": {
        "colab": {
          "base_uri": "https://localhost:8080/"
        },
        "id": "gIvQdZh7HoG3",
        "outputId": "1304a4ae-1634-4529-dc1f-83ef88ec2f52"
      },
      "execution_count": null,
      "outputs": [
        {
          "output_type": "execute_result",
          "data": {
            "text/plain": [
              "HDFCBANK.NS    0.012213\n",
              "RELIANCE.NS    0.013741\n",
              "TCS.NS         0.011750\n",
              "dtype: float64"
            ]
          },
          "metadata": {},
          "execution_count": 20
        }
      ]
    },
    {
      "cell_type": "code",
      "source": [
        "def var_historic(r, level=5):\n",
        "    \"\"\"\n",
        "    Returns the historic Value at Risk at a specified level\n",
        "    i.e. returns the number such that \"level\" percent of the returns\n",
        "    fall below that number, and the (100-level) percent are above\n",
        "    \"\"\"\n",
        "    if isinstance(r, pd.DataFrame):\n",
        "        return r.aggregate(var_historic, level=level)\n",
        "    elif isinstance(r, pd.Series):\n",
        "        return -np.percentile(r, level)\n",
        "    else:\n",
        "        raise TypeError(\"Expected r to be a Series or DataFrame\")  "
      ],
      "metadata": {
        "id": "_UCVi5tEMVbP"
      },
      "execution_count": null,
      "outputs": []
    },
    {
      "cell_type": "code",
      "source": [
        "var_historic(returns,level=1)"
      ],
      "metadata": {
        "colab": {
          "base_uri": "https://localhost:8080/"
        },
        "id": "5iOUKQkhMfVt",
        "outputId": "ce1e77ab-ce02-49fc-f200-f02a0be91d41"
      },
      "execution_count": null,
      "outputs": [
        {
          "output_type": "execute_result",
          "data": {
            "text/plain": [
              "HDFCBANK.NS    0.038490\n",
              "RELIANCE.NS    0.044791\n",
              "TCS.NS         0.045349\n",
              "dtype: float64"
            ]
          },
          "metadata": {},
          "execution_count": 24
        }
      ]
    },
    {
      "cell_type": "code",
      "source": [
        "def cvar_historic(r, level=5):\n",
        "    \"\"\"\n",
        "    Computes the Conditional VaR of Series or DataFrame\n",
        "    \"\"\"\n",
        "    if isinstance(r, pd.Series):\n",
        "        is_beyond = r <= -var_historic(r, level=level)\n",
        "        return -r[is_beyond].mean()\n",
        "    elif isinstance(r, pd.DataFrame):\n",
        "        return r.aggregate(cvar_historic, level=level)\n",
        "    else:\n",
        "        raise TypeError(\"Expected r to be a Series or DataFrame\")"
      ],
      "metadata": {
        "id": "j_mkXDDjHue9"
      },
      "execution_count": null,
      "outputs": []
    },
    {
      "cell_type": "code",
      "source": [
        "cvar_historic(returns,level=1)"
      ],
      "metadata": {
        "colab": {
          "base_uri": "https://localhost:8080/"
        },
        "id": "QcscoGA6L8ah",
        "outputId": "dac10083-275b-4fc5-c71e-66f400b19720"
      },
      "execution_count": null,
      "outputs": [
        {
          "output_type": "execute_result",
          "data": {
            "text/plain": [
              "HDFCBANK.NS    0.068231\n",
              "RELIANCE.NS    0.077000\n",
              "TCS.NS         0.060585\n",
              "dtype: float64"
            ]
          },
          "metadata": {},
          "execution_count": 23
        }
      ]
    },
    {
      "cell_type": "code",
      "source": [
        "from scipy.stats import norm, skew, kurtosis"
      ],
      "metadata": {
        "id": "7lsXiMIWNEDX"
      },
      "execution_count": null,
      "outputs": []
    },
    {
      "cell_type": "code",
      "source": [
        "def var_gaussian(r, level=5):\n",
        "    \"\"\"\n",
        "    Returns the Parametric Gauusian VaR of a Series or DataFrame\n",
        "    \"\"\"\n",
        "    # compute the Z score assuming it was Gaussian\n",
        "    z = norm.ppf(level/100)\n",
        "    return -(r.mean() + z*r.std(ddof=0))"
      ],
      "metadata": {
        "id": "_B9uhrV-PGtI"
      },
      "execution_count": null,
      "outputs": []
    },
    {
      "cell_type": "code",
      "source": [
        "var_gaussian(returns)"
      ],
      "metadata": {
        "colab": {
          "base_uri": "https://localhost:8080/"
        },
        "id": "8hLTtawKPJvU",
        "outputId": "80bb0dba-0552-49e8-b42a-82cd22956fad"
      },
      "execution_count": null,
      "outputs": [
        {
          "output_type": "execute_result",
          "data": {
            "text/plain": [
              "HDFCBANK.NS    0.027489\n",
              "RELIANCE.NS    0.032142\n",
              "TCS.NS         0.026317\n",
              "dtype: float64"
            ]
          },
          "metadata": {},
          "execution_count": 35
        }
      ]
    },
    {
      "cell_type": "code",
      "source": [
        "def var_gaussian(r, level=5, modified=False):\n",
        "    \"\"\"\n",
        "    Returns the Parametric Gauusian VaR of a Series or DataFrame\n",
        "    If \"modified\" is True, then the modified VaR is returned,\n",
        "    using the Cornish-Fisher modification\n",
        "    \"\"\"\n",
        "    # compute the Z score assuming it was Gaussian\n",
        "    z = norm.ppf(level/100)\n",
        "    if modified:\n",
        "        # modify the Z score based on observed skewness and kurtosis\n",
        "        s = skew(r)\n",
        "        k = kurtosis(r)\n",
        "        z = (z +\n",
        "                (z**2 - 1)*s/6 +\n",
        "                (z**3 -3*z)*(k-3)/24 -\n",
        "                (2*z**3 - 5*z)*(s**2)/36\n",
        "            )\n",
        "    return -(r.mean() + z*r.std(ddof=0))"
      ],
      "metadata": {
        "id": "CCjZKbVbMFtQ"
      },
      "execution_count": null,
      "outputs": []
    },
    {
      "cell_type": "code",
      "source": [
        "var_gaussian(returns)"
      ],
      "metadata": {
        "id": "jqYvgygNMqxm",
        "colab": {
          "base_uri": "https://localhost:8080/"
        },
        "outputId": "a1ea1fb4-8e81-49a2-d082-d7f004f75d5c"
      },
      "execution_count": null,
      "outputs": [
        {
          "output_type": "execute_result",
          "data": {
            "text/plain": [
              "HDFCBANK.NS    0.027489\n",
              "RELIANCE.NS    0.032142\n",
              "TCS.NS         0.026317\n",
              "dtype: float64"
            ]
          },
          "metadata": {},
          "execution_count": 40
        }
      ]
    },
    {
      "cell_type": "code",
      "source": [
        "var_table = [var_gaussian(returns), \n",
        "             var_gaussian(returns, modified=True), \n",
        "             var_historic(returns)]\n",
        "comparison = pd.concat(var_table, axis=1)\n",
        "comparison.columns=['Gaussian', 'Cornish-Fisher', 'Historic']\n",
        "comparison.plot.bar(title=\"Returns: VaR at 5%\")"
      ],
      "metadata": {
        "colab": {
          "base_uri": "https://localhost:8080/",
          "height": 361
        },
        "id": "XEze9vhhPO7J",
        "outputId": "a1e186b1-0109-47f2-d60b-593df0afdb4e"
      },
      "execution_count": null,
      "outputs": [
        {
          "output_type": "execute_result",
          "data": {
            "text/plain": [
              "<matplotlib.axes._subplots.AxesSubplot at 0x7fbb3ff04ad0>"
            ]
          },
          "metadata": {},
          "execution_count": 42
        },
        {
          "output_type": "display_data",
          "data": {
            "text/plain": [
              "<Figure size 432x288 with 1 Axes>"
            ],
            "image/png": "[encoded data removed]"
          },
          "metadata": {
            "needs_background": "light"
          }
        }
      ]
    },
    {
      "cell_type": "code",
      "source": [],
      "metadata": {
        "id": "EhFRgx8JZQDs"
      },
      "execution_count": null,
      "outputs": []
    }
  ]
}